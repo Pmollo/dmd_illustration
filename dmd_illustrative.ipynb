{
 "cells": [
  {
   "attachments": {},
   "cell_type": "markdown",
   "id": "328b5605",
   "metadata": {},
   "source": [
    "# Illustrative example Dynamic Mode Decomposition\n",
    "\n",
    "We choose the following dynamic setup\n",
    "$$\n",
    "K = \\begin{pmatrix} 0.75 & 0.375 & 0 & 0 \\\\ -0.125 & 0.75 & 0.375 & 0 \\\\ 0 & -0.125 & 0.75 & 0.375  \\\\ 0 & 0 & -0.125 & 0.75 \\end{pmatrix}\n",
    "$$\n",
    "and \n",
    "$$\n",
    "v_1 = \\begin{pmatrix} 1 \\\\ 1 \\\\ 1 \\\\ 0 \\end{pmatrix}.\n",
    "$$\n",
    "\n",
    "Then we introduce the following notation for the snapshot collection (time dependant snapshot)\n",
    "$$\n",
    "V_1^N = \\{v_1, \\cdots, v_N\\}\n",
    "$$"
   ]
  },
  {
   "cell_type": "code",
   "execution_count": 1,
   "id": "42920ba4",
   "metadata": {},
   "outputs": [
    {
     "data": {
      "text/plain": [
       "Text(0, 0.5, 'v')"
      ]
     },
     "execution_count": 1,
     "metadata": {},
     "output_type": "execute_result"
    },
    {
     "data": {
      "image/png": "[encoded data removed]",
      "text/plain": [
       "<Figure size 432x288 with 2 Axes>"
      ]
     },
     "metadata": {
      "needs_background": "light"
     },
     "output_type": "display_data"
    }
   ],
   "source": [
    "import numpy as np\n",
    "import pylab as pl\n",
    "\n",
    "# Dimension\n",
    "D = 10;\n",
    "\n",
    "# Dynamic operator\n",
    "updiag =  0.375;\n",
    "mddiag =  0.75;\n",
    "dndiag = -0.125;\n",
    "K = dndiag*np.eye(D,k=-1) + mddiag*np.eye(D) + updiag*np.eye(D,k=1);\n",
    "# K = np.eye(D)\n",
    "\n",
    "# Initial vector\n",
    "v1= np.zeros([D,1]);\n",
    "v1[int(D*0.75):,0] = 1;\n",
    "\n",
    "# Trajectory\n",
    "v = v1;\n",
    "V = v1;\n",
    "\n",
    "N = 5;\n",
    "for n in range(N):\n",
    "    v = K@v;\n",
    "    V = np.concatenate((V,v),axis=1)\n",
    "\n",
    "# Display\n",
    "fig = pl.figure()\n",
    "ax = fig.add_subplot()\n",
    "\n",
    "pl.imshow(V)\n",
    "pl.colorbar()\n",
    "ax.set_xlabel('Iterations')\n",
    "ax.set_ylabel('v')"
   ]
  },
  {
   "attachments": {},
   "cell_type": "markdown",
   "id": "84b0c408",
   "metadata": {},
   "source": [
    "## Starter\n",
    "It is well know that power iteration, under certain conditions, leads to align input vector in the direction \n",
    "of the operator dominant mode, \\textit{i.e.} the eigenvector associated to the highest eigenvalue (in norm).\n",
    "With a normalization at each iteration, we have that\n",
    "\\begin{equation}\n",
    "    \\lim_{n\\to\\infty}\\frac{K^nv}{\\|K^nv\\|} = \\phi,\n",
    "\\end{equation}\n",
    "with\n",
    "\\begin{equation}\n",
    "    K\\phi = \\lambda_{\\rm max} \\phi,\n",
    "\\end{equation}\n",
    "and where $\\lambda_{\\rm max}$ is the highest eigenvalue of $A$ (in norm).\n",
    "It follows that\n",
    "\\begin{equation}\n",
    "    v_n = a_1 v_1 + \\dots + a_{n-1}v_{n-1} + r_n = V_1^{n-1}a + r_n,\n",
    "\\end{equation}\n",
    "where \n",
    "\\begin{equation}\n",
    "    \\lim_{n\\to\\infty}r_n = 0.\n",
    "\\end{equation}\n",
    "Using the previous equation and the dynamic matrix $K$ defined before, we can write\n",
    "\\begin{equation}\n",
    "    KV_1^{n-1} = V_2^{n} = V_1^{n-1}S + r_ne_{n-1}^t,\n",
    "\\end{equation}\n",
    "with\n",
    "\\begin{equation}\n",
    "    S = \\begin{pmatrix}\n",
    "    0 &   &        &   & a_1 \\\\\n",
    "    1 &   &        &   & a_2 \\\\\n",
    "      & 1 &        &   & a_3 \\\\\n",
    "      &   & \\ddots &   & \\vdots \\\\\n",
    "      &   &        & 1 & a_{n-1}\n",
    "    \\end{pmatrix}.\n",
    "\\end{equation}"
   ]
  },
  {
   "cell_type": "code",
   "execution_count": 3,
   "id": "2791bc9b",
   "metadata": {},
   "outputs": [
    {
     "data": {
      "text/plain": [
       "Text(0, 0.5, '$\\\\|v_n - \\\\pi_{V_1^{n-1}}v_n\\\\|$')"
      ]
     },
     "execution_count": 3,
     "metadata": {},
     "output_type": "execute_result"
    },
    {
     "data": {
      "image/png": "[encoded data removed]",
      "text/plain": [
       "<Figure size 432x288 with 1 Axes>"
      ]
     },
     "metadata": {
      "needs_background": "light"
     },
     "output_type": "display_data"
    }
   ],
   "source": [
    "# Trajectory\n",
    "v  =  np.random.random([D,1]);\n",
    "v  /= np.linalg.norm(v); \n",
    "VN = v;\n",
    "R  = [];\n",
    "\n",
    "NN = 5;\n",
    "for n in range(NN):\n",
    "    v = K@v;\n",
    "    w  = v - VN@(VN.T@v);\n",
    "    w /= np.linalg.norm(w);\n",
    "    R.append(v - VN@(VN.T@v))\n",
    "    VN = np.concatenate((VN,v),axis=1);\n",
    "\n",
    "# Display\n",
    "fig = pl.figure()\n",
    "ax = fig.add_subplot()\n",
    "\n",
    "pl.semilogy(range(NN),R,'*')\n",
    "ax.set_xlabel('Power iterations')\n",
    "ax.set_ylabel('$\\|v_n - \\pi_{V_1^{n-1}}v_n\\|$')"
   ]
  },
  {
   "attachments": {},
   "cell_type": "markdown",
   "id": "37f78694",
   "metadata": {},
   "source": [
    "## Naive non-stable approach\n",
    "\n",
    "Assuming that $N$ is large enough to get $r_N<\\epsilon$, we can neglect the rest to obtain\n",
    "\\begin{equation}\n",
    "    KV_1^{N-1} \\simeq V_1^{N-1}S,\n",
    "\\end{equation}\n",
    "with $K\\in\\in\\mathbb{R}^{d\\times d}$ and $S\\in\\mathbb{R}^{N-1 \\times N-1}$.\n",
    "We remark that in general $N-1\\ll d$.\n",
    "Invoking the QR-decomposition of $V_1^{N-1}$, we have that \n",
    "\\begin{align}\n",
    "    v_N &= V_1^{N-1}a = QRa \\\\\n",
    "    \\Rightarrow \\quad a &= R^\\dagger Q^* v_N,\n",
    "\\end{align}\n",
    "which allows to build $S$ explicitly and to compute its eigen decomposition, \\textit{i.e.} find \n",
    "$\\Lambda$ diagonal and $Y$ invertible such that \n",
    "\\begin{equation}\n",
    "    S = Y \\Lambda Y^{-1}. \n",
    "\\end{equation}\n",
    "Finally, we obtain \n",
    "\\begin{align}\n",
    "    KV_1^{N-1} &= V_1^{N-1}S \\\\\n",
    "    &= V_1^{N-1}YLY^{-1} \\\\\n",
    "    K \\underbrace{V_1^{N-1}Y}_{\\Phi} &= \\underbrace{V_1^{N-1}Y}_{\\Phi} {\\Lambda},\n",
    "\\end{align}\n",
    "and we can compute \n",
    "\\begin{equation}\n",
    "    \\xi = \\Phi^t v_1.\n",
    "\\end{equation}"
   ]
  },
  {
   "cell_type": "code",
   "execution_count": 3,
   "id": "c89da8c0",
   "metadata": {},
   "outputs": [
    {
     "name": "stdout",
     "output_type": "stream",
     "text": [
      "Expansion coefficients: [0.04 0.04 0.04 0.04 0.04 0.04 0.04 0.04 0.04 0.04 0.04 0.04 0.04 0.04\n",
      " 0.04 0.04 0.04 0.04 0.04 0.04 0.04 0.04 0.04 0.04 0.04]\n",
      "Condition number R: inf\n",
      "Approximation V2-V1*S: 6.280369834735101e-16\n",
      "Approximation V2-K*V1: 0.0\n"
     ]
    },
    {
     "data": {
      "text/plain": [
       "<matplotlib.image.AxesImage at 0x7fba42892f20>"
      ]
     },
     "execution_count": 3,
     "metadata": {},
     "output_type": "execute_result"
    },
    {
     "data": {
      "image/png": "[encoded data removed]",
      "text/plain": [
       "<Figure size 432x288 with 1 Axes>"
      ]
     },
     "metadata": {
      "needs_background": "light"
     },
     "output_type": "display_data"
    }
   ],
   "source": [
    "V1 = V[:,0:N]\n",
    "V2 = V[:,1:(N+1)]\n",
    "vn = V[:,N]\n",
    "Q,R = np.linalg.qr(V1)\n",
    "\n",
    "a = np.linalg.lstsq(R, Q.T@vn, rcond=None);\n",
    "print(\"Expansion coefficients:\",a[0])\n",
    "print(\"Condition number R:\", np.linalg.cond(R))\n",
    "\n",
    "S = np.eye(N,k=-1);\n",
    "S[:,-1] = a[0];\n",
    "\n",
    "print(\"Approximation V2-V1*S:\",np.linalg.norm(V2 - V1@S))\n",
    "print(\"Approximation V2-K*V1:\",np.linalg.norm(V2 - K@V1))\n",
    "pl.spy(S)"
   ]
  },
  {
   "cell_type": "code",
   "execution_count": 4,
   "id": "be17cca0",
   "metadata": {},
   "outputs": [
    {
     "data": {
      "text/plain": [
       "Text(23.100000000000005, 0.5, 'v')"
      ]
     },
     "execution_count": 4,
     "metadata": {},
     "output_type": "execute_result"
    },
    {
     "data": {
      "image/png": "[encoded data removed]",
      "text/plain": [
       "<Figure size 432x288 with 2 Axes>"
      ]
     },
     "metadata": {
      "needs_background": "light"
     },
     "output_type": "display_data"
    }
   ],
   "source": [
    "L,Y = np.linalg.eig(S)\n",
    "# np.linalg.norm(Y@np.diag(L)@np.linalg.inv(Y) - S)\n",
    "\n",
    "Phi = V1@Y;\n",
    "C   = np.vander(L,increasing=1);\n",
    "Xi  = Phi.T@V[:,0]\n",
    "# Xi = np.linalg.solve( (Y.T@Y)*(C.T@C), )\n",
    "\n",
    "pl.imshow(np.imag(Phi))\n",
    "pl.colorbar()\n",
    "ax.set_xlabel('Iteration')\n",
    "ax.set_ylabel('v')"
   ]
  },
  {
   "cell_type": "code",
   "execution_count": 5,
   "id": "000bee77",
   "metadata": {},
   "outputs": [
    {
     "data": {
      "text/plain": [
       "Text(0, 0.5, 'v')"
      ]
     },
     "execution_count": 5,
     "metadata": {},
     "output_type": "execute_result"
    },
    {
     "data": {
      "image/png": "[encoded data removed]",
      "text/plain": [
       "<Figure size 432x288 with 2 Axes>"
      ]
     },
     "metadata": {
      "needs_background": "light"
     },
     "output_type": "display_data"
    }
   ],
   "source": [
    "Vd = np.empty([D,0])\n",
    "for n in range(0,N+1):\n",
    "    w = np.reshape(Phi@np.diag(L)**n@Xi, [D,1])\n",
    "    Vd = np.concatenate((Vd,w),axis=1)\n",
    "\n",
    "fig = pl.figure()\n",
    "ax = fig.add_subplot()\n",
    "\n",
    "pl.imshow(np.abs(Vd))\n",
    "pl.colorbar()\n",
    "ax.set_xlabel('Iteration')\n",
    "ax.set_ylabel('v')"
   ]
  },
  {
   "attachments": {},
   "cell_type": "markdown",
   "id": "751f58e2",
   "metadata": {},
   "source": [
    "## Stable version\n",
    "\n",
    "$$ AV_1^{N-1} = V_2^{N} = V_1^{N-1} S $$\n",
    "\n",
    "Using SVD, we get\n",
    "$$ U\\Sigma W = V_1^{N-1}, $$\n",
    "and injecting into the previous equation\n",
    "$$ U^t A U = U^t V_2^{N} W \\Sigma^{-1} = \\tilde{S} $$"
   ]
  },
  {
   "cell_type": "code",
   "execution_count": 6,
   "id": "cfb329b8",
   "metadata": {},
   "outputs": [],
   "source": [
    "V1 = V[:,0:N]\n",
    "V2 = V[:,1:(N+1)]\n",
    "\n",
    "U,Sig,W = np.linalg.svd(V1);\n",
    "Sig_inv = np.zeros([np.shape(V1)[1],np.shape(V1)[0]]);\n",
    "for i in range(min(np.shape(V1))):\n",
    "    if Sig[i]>1e-3:\n",
    "        Sig_inv[i,i] = 1/Sig[i];\n",
    "St = U.T @ V2 @ W @ Sig_inv"
   ]
  },
  {
   "cell_type": "code",
   "execution_count": 7,
   "id": "a552ed2c",
   "metadata": {},
   "outputs": [
    {
     "data": {
      "text/plain": [
       "Text(17.200000000000017, 0.5, 'v')"
      ]
     },
     "execution_count": 7,
     "metadata": {},
     "output_type": "execute_result"
    },
    {
     "data": {
      "image/png": "[encoded data removed]",
      "text/plain": [
       "<Figure size 432x288 with 2 Axes>"
      ]
     },
     "metadata": {
      "needs_background": "light"
     },
     "output_type": "display_data"
    }
   ],
   "source": [
    "Lt, Xt = np.linalg.eig(St)\n",
    "Phi = U@Xt;\n",
    "C   = np.vander(Lt,increasing=1,N=N);\n",
    "Sg  = np.zeros([D,N]);\n",
    "for i in range(N):\n",
    "    Sg[i,i] = Sig[i]\n",
    "#Xi  = np.linalg.solve( (Xt.T@Xt)*np.conj(C@C.T), np.conj(np.diag(C@W@Sg.T@Xt)))\n",
    "Xi  = Phi.T@V[:,0]\n",
    "\n",
    "pl.imshow(np.abs(Phi))\n",
    "pl.colorbar()\n",
    "ax.set_xlabel('Iteration')\n",
    "ax.set_ylabel('v')"
   ]
  },
  {
   "cell_type": "code",
   "execution_count": 8,
   "id": "7a418a1c",
   "metadata": {},
   "outputs": [
    {
     "data": {
      "text/plain": [
       "Text(0, 0.5, 'v')"
      ]
     },
     "execution_count": 8,
     "metadata": {},
     "output_type": "execute_result"
    },
    {
     "data": {
      "image/png": "[encoded data removed]",
      "text/plain": [
       "<Figure size 432x288 with 2 Axes>"
      ]
     },
     "metadata": {
      "needs_background": "light"
     },
     "output_type": "display_data"
    }
   ],
   "source": [
    "Wd = np.empty([D,0])\n",
    "for n in range(0,N+1):\n",
    "    w = np.reshape(Phi@np.diag(Lt)**n@Xi, [D,1])\n",
    "    Wd = np.concatenate((Wd,w),axis=1)\n",
    "\n",
    "fig = pl.figure()\n",
    "ax = fig.add_subplot()\n",
    "\n",
    "pl.imshow(np.abs(Wd))\n",
    "pl.colorbar()\n",
    "ax.set_xlabel('Iteration')\n",
    "ax.set_ylabel('v')"
   ]
  }
 ],
 "metadata": {
  "kernelspec": {
   "display_name": "Python 3.10.6 64-bit",
   "language": "python",
   "name": "python3"
  },
  "language_info": {
   "codemirror_mode": {
    "name": "ipython",
    "version": 3
   },
   "file_extension": ".py",
   "mimetype": "text/x-python",
   "name": "python",
   "nbconvert_exporter": "python",
   "pygments_lexer": "ipython3",
   "version": "3.10.6"
  },
  "vscode": {
   "interpreter": {
    "hash": "767d51c1340bd893661ea55ea3124f6de3c7a262a8b4abca0554b478b1e2ff90"
   }
  }
 },
 "nbformat": 4,
 "nbformat_minor": 5
}
