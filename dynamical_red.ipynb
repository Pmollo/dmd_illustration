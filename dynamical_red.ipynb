{
 "cells": [
  {
   "attachments": {},
   "cell_type": "markdown",
   "id": "9e6db26f",
   "metadata": {},
   "source": [
    "# Dynamical reduction"
   ]
  },
  {
   "cell_type": "code",
   "execution_count": 1,
   "id": "568b0d4f",
   "metadata": {},
   "outputs": [],
   "source": [
    "import numpy as np\n",
    "\n",
    "# Dimension\n",
    "D = 200;\n",
    "X = np.linspace(0,10,D);\n",
    "\n",
    "# Initialization\n",
    "def f(x,mu):\n",
    "    return np.exp(-0.5*((x-(5+mu))**2)/mu**0.125)\n",
    "\n",
    "# Time-dependent snapshots\n",
    "V  = [];\n",
    "N  = 10; # Number of TD-snapshots\n",
    "K  = 500; # Number of time steps\n",
    "mu = np.random.random([N,2])*0.4 + 0.8;\n",
    "\n",
    "for i in range(N):\n",
    "    # Dynamic operator\n",
    "    updiag =  0.375 * mu[i,0];\n",
    "    mddiag =  0.75  * mu[i,0];\n",
    "    dndiag = -0.125 * mu[i,0];\n",
    "    A = dndiag*np.eye(D,k=-1) + mddiag*np.eye(D) + updiag*np.eye(D,k=1);\n",
    "\n",
    "    # Initial vector\n",
    "    v1 = f(X,mu[i,1]);\n",
    "    v1 = v1.reshape([D,1])\n",
    "\n",
    "    # Trajectory\n",
    "    v = v1;\n",
    "    W = v1;\n",
    "\n",
    "    for n in range(K):\n",
    "        v = A@v;\n",
    "        W = np.concatenate((W,v),axis=1)\n",
    "    \n",
    "    V.append(W)"
   ]
  },
  {
   "cell_type": "code",
   "execution_count": 2,
   "id": "c8a050ad",
   "metadata": {},
   "outputs": [
    {
     "data": {
      "text/plain": [
       "Text(0, 0.5, 'v')"
      ]
     },
     "execution_count": 2,
     "metadata": {},
     "output_type": "execute_result"
    },
    {
     "data": {
      "image/png": "[encoded data removed]",
      "text/plain": [
       "<Figure size 640x480 with 3 Axes>"
      ]
     },
     "metadata": {},
     "output_type": "display_data"
    }
   ],
   "source": [
    "import pylab as pl\n",
    "fig, ax = pl.subplots(3,1)\n",
    "\n",
    "ax[0].imshow(V[0])\n",
    "ax[0].set_xlabel('Iteration')\n",
    "ax[0].set_ylabel('v')\n",
    "\n",
    "ax[1].imshow(V[4])\n",
    "ax[1].set_xlabel('Iteration')\n",
    "ax[1].set_ylabel('v')\n",
    "\n",
    "ax[2].imshow(V[2])\n",
    "ax[2].set_xlabel('Iteration')\n",
    "ax[2].set_ylabel('v')"
   ]
  },
  {
   "cell_type": "code",
   "execution_count": 3,
   "id": "4841330f",
   "metadata": {},
   "outputs": [
    {
     "data": {
      "text/plain": [
       "array([<AxesSubplot:xlabel='Iteration', ylabel='v'>,\n",
       "       <AxesSubplot:xlabel='Iteration', ylabel='v'>,\n",
       "       <AxesSubplot:xlabel='Iteration', ylabel='v'>], dtype=object)"
      ]
     },
     "execution_count": 3,
     "metadata": {},
     "output_type": "execute_result"
    }
   ],
   "source": [
    "ax"
   ]
  },
  {
   "cell_type": "code",
   "execution_count": null,
   "id": "79cd24f0",
   "metadata": {},
   "outputs": [],
   "source": []
  }
 ],
 "metadata": {
  "kernelspec": {
   "display_name": "Python 3 (ipykernel)",
   "language": "python",
   "name": "python3"
  },
  "language_info": {
   "codemirror_mode": {
    "name": "ipython",
    "version": 3
   },
   "file_extension": ".py",
   "mimetype": "text/x-python",
   "name": "python",
   "nbconvert_exporter": "python",
   "pygments_lexer": "ipython3",
   "version": "3.11.2"
  }
 },
 "nbformat": 4,
 "nbformat_minor": 5
}
